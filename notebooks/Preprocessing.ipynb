{
 "cells": [
  {
   "cell_type": "code",
   "execution_count": 1,
   "metadata": {},
   "outputs": [],
   "source": [
    "import pandas as pd\n",
    "import numpy as np\n",
    "import matplotlib.pyplot as plt\n",
    "from glob import glob\n",
    "from tqdm.auto import tqdm"
   ]
  },
  {
   "cell_type": "markdown",
   "metadata": {},
   "source": [
    "## Loading into memory \\ grouping by program"
   ]
  },
  {
   "cell_type": "code",
   "execution_count": 2,
   "metadata": {},
   "outputs": [
    {
     "data": {
      "application/vnd.jupyter.widget-view+json": {
       "model_id": "4ea179c18de441a99672812e20442d93",
       "version_major": 2,
       "version_minor": 0
      },
      "text/plain": [
       "HBox(children=(FloatProgress(value=0.0, max=27.0), HTML(value='')))"
      ]
     },
     "metadata": {},
     "output_type": "display_data"
    },
    {
     "name": "stdout",
     "output_type": "stream",
     "text": [
      "\n"
     ]
    }
   ],
   "source": [
    "JSON_FILES = sorted(glob('../data/GitHubParsed/*.json'))  # the parsed data is stored in multiple files\n",
    "\n",
    "df = []\n",
    "for filename in tqdm(JSON_FILES):\n",
    "    df.append(pd.read_json(filename, lines=True))\n",
    "df = pd.concat(df)"
   ]
  },
  {
   "cell_type": "code",
   "execution_count": 3,
   "metadata": {},
   "outputs": [],
   "source": [
    "def join_dicts(dicts):\n",
    "    \"\"\"Join a list of dictionaries. PRECONDITION: no two keys are the same\"\"\"\n",
    "    result = {}\n",
    "    for d in dicts:\n",
    "        result.update(d)\n",
    "    return result"
   ]
  },
  {
   "cell_type": "code",
   "execution_count": 4,
   "metadata": {},
   "outputs": [],
   "source": [
    "df = df.groupby(df['repo'], as_index=False).aggregate({\"classes\": join_dicts})"
   ]
  },
  {
   "cell_type": "code",
   "execution_count": 5,
   "metadata": {},
   "outputs": [
    {
     "data": {
      "text/html": [
       "<div>\n",
       "<style scoped>\n",
       "    .dataframe tbody tr th:only-of-type {\n",
       "        vertical-align: middle;\n",
       "    }\n",
       "\n",
       "    .dataframe tbody tr th {\n",
       "        vertical-align: top;\n",
       "    }\n",
       "\n",
       "    .dataframe thead th {\n",
       "        text-align: right;\n",
       "    }\n",
       "</style>\n",
       "<table border=\"1\" class=\"dataframe\">\n",
       "  <thead>\n",
       "    <tr style=\"text-align: right;\">\n",
       "      <th></th>\n",
       "      <th>repo</th>\n",
       "      <th>classes</th>\n",
       "    </tr>\n",
       "  </thead>\n",
       "  <tbody>\n",
       "    <tr>\n",
       "      <th>0</th>\n",
       "      <td>00-Evan/shattered-pixel-dungeon-gdx</td>\n",
       "      <td>{'com.watabou.input.NoosaInputProcessor': {'in...</td>\n",
       "    </tr>\n",
       "    <tr>\n",
       "      <th>1</th>\n",
       "      <td>01org/cordova-google-play-games-services</td>\n",
       "      <td>{'com.google.example.games.basegameutils.GameH...</td>\n",
       "    </tr>\n",
       "    <tr>\n",
       "      <th>2</th>\n",
       "      <td>07kit/07kit</td>\n",
       "      <td>{'com.kit.gui.component.SidebarWidget': {'getT...</td>\n",
       "    </tr>\n",
       "    <tr>\n",
       "      <th>3</th>\n",
       "      <td>0xbb/otp-authenticator</td>\n",
       "      <td>{'net.bierbaumer.otp_authenticator.EncryptionH...</td>\n",
       "    </tr>\n",
       "    <tr>\n",
       "      <th>4</th>\n",
       "      <td>103style/SpeedControl</td>\n",
       "      <td>{'com.hnpolice.xiaoke.carspeedcontrol.view.Spe...</td>\n",
       "    </tr>\n",
       "  </tbody>\n",
       "</table>\n",
       "</div>"
      ],
      "text/plain": [
       "                                       repo  \\\n",
       "0       00-Evan/shattered-pixel-dungeon-gdx   \n",
       "1  01org/cordova-google-play-games-services   \n",
       "2                               07kit/07kit   \n",
       "3                    0xbb/otp-authenticator   \n",
       "4                     103style/SpeedControl   \n",
       "\n",
       "                                             classes  \n",
       "0  {'com.watabou.input.NoosaInputProcessor': {'in...  \n",
       "1  {'com.google.example.games.basegameutils.GameH...  \n",
       "2  {'com.kit.gui.component.SidebarWidget': {'getT...  \n",
       "3  {'net.bierbaumer.otp_authenticator.EncryptionH...  \n",
       "4  {'com.hnpolice.xiaoke.carspeedcontrol.view.Spe...  "
      ]
     },
     "execution_count": 5,
     "metadata": {},
     "output_type": "execute_result"
    }
   ],
   "source": [
    "df.head()"
   ]
  },
  {
   "cell_type": "markdown",
   "metadata": {},
   "source": [
    "## Filtering out duplicates and writing to disk"
   ]
  },
  {
   "cell_type": "code",
   "execution_count": 6,
   "metadata": {},
   "outputs": [],
   "source": [
    "def remove_repos(df, to_remove):\n",
    "    print(\"Total repos: %d, repos to be removed: %d\" %(len(df.repo.unique()), len(to_remove)))\n",
    "    df = df[~df.repo.isin(to_remove)]\n",
    "    print(\"Total repos: %d\" % len(df))\n",
    "    return df"
   ]
  },
  {
   "cell_type": "code",
   "execution_count": 7,
   "metadata": {},
   "outputs": [],
   "source": [
    "duplicates = set() # list of ids of repositories to be removed as duplicates\n",
    "all_classes = {} # fully qualified classnames -> repository id\n",
    "\n",
    "for i, classes in enumerate(df.classes.values):\n",
    "    for clazz in classes:\n",
    "        if clazz not in all_classes or all_classes[clazz] in duplicates:\n",
    "            all_classes[clazz] = i\n",
    "        elif len(classes) > len(df.classes.values[all_classes[clazz]]):\n",
    "            duplicates.add(all_classes[clazz])\n",
    "            all_classes[clazz] = i\n",
    "        else:\n",
    "            duplicates.add(i)\n",
    "duplicates = [df.repo.values[i] for i in duplicates]"
   ]
  },
  {
   "cell_type": "code",
   "execution_count": 8,
   "metadata": {},
   "outputs": [
    {
     "name": "stdout",
     "output_type": "stream",
     "text": [
      "Total repos: 8337, repos to be removed: 1133\n",
      "Total repos: 7204\n"
     ]
    }
   ],
   "source": [
    "df = remove_repos(df, duplicates)"
   ]
  },
  {
   "cell_type": "code",
   "execution_count": 9,
   "metadata": {},
   "outputs": [],
   "source": [
    "df.set_index('repo').rename(columns={'classes':'index1'}).to_json('../data/type-data-java.json', indent=2)"
   ]
  },
  {
   "cell_type": "markdown",
   "metadata": {},
   "source": [
    "### A smaller dataset"
   ]
  },
  {
   "cell_type": "code",
   "execution_count": 10,
   "metadata": {},
   "outputs": [],
   "source": [
    "small = df.sample(frac=0.1, replace=False)\n",
    "small.set_index('repo').rename(columns={'classes':'index1'}).to_json('../data/type-data-java-small.json', indent=2)"
   ]
  },
  {
   "cell_type": "markdown",
   "metadata": {},
   "source": [
    "## Some statistics"
   ]
  },
  {
   "cell_type": "code",
   "execution_count": 11,
   "metadata": {},
   "outputs": [
    {
     "data": {
      "application/vnd.jupyter.widget-view+json": {
       "model_id": "53e40f1b72954163bdc75e5876b59294",
       "version_major": 2,
       "version_minor": 0
      },
      "text/plain": [
       "HBox(children=(FloatProgress(value=0.0, max=7204.0), HTML(value='')))"
      ]
     },
     "metadata": {},
     "output_type": "display_data"
    },
    {
     "name": "stdout",
     "output_type": "stream",
     "text": [
      "\n"
     ]
    }
   ],
   "source": [
    "param_type_freq = {}  # type -> number of times the type is used as a paramater\n",
    "return_type_freq = {} # type -> number of times the type is used as a return type\n",
    "for repo in tqdm(df.classes.values):\n",
    "    for clazz in repo.values():\n",
    "        for method in clazz.values():\n",
    "            if len(list(method.keys())) == 0:\n",
    "                continue\n",
    "            for param in method[\"params\"].values():\n",
    "                param_type_freq[param[\"type\"]] = param_type_freq.get(param[\"type\"], 0) + 1\n",
    "            if \"return\" in method:\n",
    "                return_type_freq[method[\"return\"][\"type\"]] = return_type_freq.get(method[\"return\"][\"type\"], 0) + 1 "
   ]
  },
  {
   "cell_type": "code",
   "execution_count": 12,
   "metadata": {},
   "outputs": [],
   "source": [
    "params_by_freq = list(param_type_freq.keys())\n",
    "params_by_freq.sort(key = lambda x: param_type_freq[x], reverse=True)\n",
    "\n",
    "return_by_freq = list(return_type_freq.keys())\n",
    "return_by_freq.sort(key = lambda x: return_type_freq[x], reverse=True)"
   ]
  },
  {
   "cell_type": "code",
   "execution_count": 13,
   "metadata": {},
   "outputs": [
    {
     "data": {
      "text/plain": [
       "['String',\n",
       " 'int',\n",
       " 'boolean',\n",
       " 'long',\n",
       " 'Object',\n",
       " 'java.lang.String',\n",
       " 'double',\n",
       " 'float',\n",
       " 'Integer',\n",
       " 'byte[]']"
      ]
     },
     "execution_count": 13,
     "metadata": {},
     "output_type": "execute_result"
    }
   ],
   "source": [
    "params_by_freq[:10]"
   ]
  },
  {
   "cell_type": "code",
   "execution_count": 14,
   "metadata": {},
   "outputs": [
    {
     "data": {
      "text/plain": [
       "['void',\n",
       " 'String',\n",
       " 'boolean',\n",
       " 'int',\n",
       " 'Builder',\n",
       " 'java.lang.String',\n",
       " 'long',\n",
       " 'Object',\n",
       " 'double',\n",
       " 'T']"
      ]
     },
     "execution_count": 14,
     "metadata": {},
     "output_type": "execute_result"
    }
   ],
   "source": [
    "return_by_freq[:10]"
   ]
  },
  {
   "cell_type": "code",
   "execution_count": 15,
   "metadata": {},
   "outputs": [],
   "source": [
    "cfd = np.zeros(len(params_by_freq))  # cumulative frequency distribution\n",
    "cfd[0] = param_type_freq[params_by_freq[0]]\n",
    "for i in range(1, len(params_by_freq)):\n",
    "    cfd[i] = cfd[i-1] + param_type_freq[params_by_freq[i]]\n",
    "cfd /= cfd[-1]\n",
    "\n",
    "x = np.arange(len(params_by_freq))\n",
    "x = x/x[-1]"
   ]
  },
  {
   "cell_type": "code",
   "execution_count": 16,
   "metadata": {},
   "outputs": [
    {
     "data": {
      "image/png": "[encoded data removed]",
      "text/plain": [
       "<Figure size 432x288 with 1 Axes>"
      ]
     },
     "metadata": {
      "needs_background": "light"
     },
     "output_type": "display_data"
    }
   ],
   "source": [
    "plt.plot(x, cfd)\n",
    "plt.ylabel(\"Usage Percentage\")\n",
    "plt.xlabel(\"Fraction of most-used types\")\n",
    "plt.show()"
   ]
  },
  {
   "cell_type": "code",
   "execution_count": 17,
   "metadata": {},
   "outputs": [
    {
     "data": {
      "text/plain": [
       "0.48993404470785645"
      ]
     },
     "execution_count": 17,
     "metadata": {},
     "output_type": "execute_result"
    }
   ],
   "source": [
    "cfd[10]"
   ]
  }
 ],
 "metadata": {
  "kernelspec": {
   "display_name": "Python 3",
   "language": "python",
   "name": "python3"
  },
  "language_info": {
   "codemirror_mode": {
    "name": "ipython",
    "version": 3
   },
   "file_extension": ".py",
   "mimetype": "text/x-python",
   "name": "python",
   "nbconvert_exporter": "python",
   "pygments_lexer": "ipython3",
   "version": "3.8.1"
  }
 },
 "nbformat": 4,
 "nbformat_minor": 2
}
