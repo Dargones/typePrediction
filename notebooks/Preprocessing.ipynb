{
 "cells": [
  {
   "cell_type": "code",
   "execution_count": 1,
   "metadata": {},
   "outputs": [],
   "source": [
    "import pandas as pd\n",
    "import numpy as np\n",
    "import matplotlib.pyplot as plt\n",
    "from glob import glob\n",
    "from tqdm.notebook import tqdm"
   ]
  },
  {
   "cell_type": "markdown",
   "metadata": {},
   "source": [
    "## Loading into memory \\ grouping by program"
   ]
  },
  {
   "cell_type": "code",
   "execution_count": 2,
   "metadata": {},
   "outputs": [
    {
     "data": {
      "application/vnd.jupyter.widget-view+json": {
       "model_id": "8b29c4fa46fe44adba25e2ece7229324",
       "version_major": 2,
       "version_minor": 0
      },
      "text/plain": [
       "HBox(children=(FloatProgress(value=0.0, max=27.0), HTML(value='')))"
      ]
     },
     "metadata": {},
     "output_type": "display_data"
    },
    {
     "name": "stdout",
     "output_type": "stream",
     "text": [
      "\n"
     ]
    }
   ],
   "source": [
    "JSON_FILES = sorted(glob('../data/GitHubParsed/*.json'))  # the parsed data is stored in multiple files\n",
    "\n",
    "df = []\n",
    "for filename in tqdm(JSON_FILES):\n",
    "    df.append(pd.read_json(filename, lines=True, orient='records'))\n",
    "df = pd.concat(df)"
   ]
  },
  {
   "cell_type": "code",
   "execution_count": 3,
   "metadata": {},
   "outputs": [],
   "source": [
    "def join_dicts(dicts):\n",
    "    \"\"\"Join a list of dictionaries. PRECONDITION: no two keys are the same\"\"\"\n",
    "    result = {}\n",
    "    for d in dicts:\n",
    "        result.update(d)\n",
    "    return result"
   ]
  },
  {
   "cell_type": "code",
   "execution_count": 4,
   "metadata": {},
   "outputs": [],
   "source": [
    "df = df.groupby(df['repo'], as_index=False).aggregate({\"classes\": join_dicts})"
   ]
  },
  {
   "cell_type": "code",
   "execution_count": 5,
   "metadata": {},
   "outputs": [
    {
     "data": {
      "text/html": [
       "<div>\n",
       "<style scoped>\n",
       "    .dataframe tbody tr th:only-of-type {\n",
       "        vertical-align: middle;\n",
       "    }\n",
       "\n",
       "    .dataframe tbody tr th {\n",
       "        vertical-align: top;\n",
       "    }\n",
       "\n",
       "    .dataframe thead th {\n",
       "        text-align: right;\n",
       "    }\n",
       "</style>\n",
       "<table border=\"1\" class=\"dataframe\">\n",
       "  <thead>\n",
       "    <tr style=\"text-align: right;\">\n",
       "      <th></th>\n",
       "      <th>repo</th>\n",
       "      <th>classes</th>\n",
       "    </tr>\n",
       "  </thead>\n",
       "  <tbody>\n",
       "    <tr>\n",
       "      <th>0</th>\n",
       "      <td>07kit/07kit</td>\n",
       "      <td>{'com.kit.gui.component.SidebarWidget': {'getT...</td>\n",
       "    </tr>\n",
       "    <tr>\n",
       "      <th>1</th>\n",
       "      <td>0xbb/otp-authenticator</td>\n",
       "      <td>{'net.bierbaumer.otp_authenticator.EncryptionH...</td>\n",
       "    </tr>\n",
       "    <tr>\n",
       "      <th>2</th>\n",
       "      <td>103style/SpeedControl</td>\n",
       "      <td>{'com.hnpolice.xiaoke.carspeedcontrol.view.Spe...</td>\n",
       "    </tr>\n",
       "    <tr>\n",
       "      <th>3</th>\n",
       "      <td>10gen-labs/socialite</td>\n",
       "      <td>{'com.mongodb.socialite.services.TestService':...</td>\n",
       "    </tr>\n",
       "    <tr>\n",
       "      <th>4</th>\n",
       "      <td>1991wangliang/tx-lcn</td>\n",
       "      <td>{'com.lorne.tx.mq.service.MQTxManagerService':...</td>\n",
       "    </tr>\n",
       "  </tbody>\n",
       "</table>\n",
       "</div>"
      ],
      "text/plain": [
       "                     repo                                            classes\n",
       "0             07kit/07kit  {'com.kit.gui.component.SidebarWidget': {'getT...\n",
       "1  0xbb/otp-authenticator  {'net.bierbaumer.otp_authenticator.EncryptionH...\n",
       "2   103style/SpeedControl  {'com.hnpolice.xiaoke.carspeedcontrol.view.Spe...\n",
       "3    10gen-labs/socialite  {'com.mongodb.socialite.services.TestService':...\n",
       "4    1991wangliang/tx-lcn  {'com.lorne.tx.mq.service.MQTxManagerService':..."
      ]
     },
     "execution_count": 5,
     "metadata": {},
     "output_type": "execute_result"
    }
   ],
   "source": [
    "df.head()"
   ]
  },
  {
   "cell_type": "markdown",
   "metadata": {},
   "source": [
    "## Filtering out duplicates and writing to disk"
   ]
  },
  {
   "cell_type": "code",
   "execution_count": 6,
   "metadata": {},
   "outputs": [],
   "source": [
    "def remove_repos(df, to_remove):\n",
    "    print(\"Total repos: %d, repos to be removed: %d\" %(len(df.repo.unique()), len(to_remove)))\n",
    "    df = df[~df.repo.isin(to_remove)]\n",
    "    print(\"Total repos: %d\" % len(df))\n",
    "    return df"
   ]
  },
  {
   "cell_type": "code",
   "execution_count": 7,
   "metadata": {},
   "outputs": [],
   "source": [
    "duplicates = set() # list of ids of repositories to be removed as duplicates\n",
    "all_classes = {} # fully qualified classnames -> repository id\n",
    "\n",
    "for i, classes in enumerate(df.classes.values):\n",
    "    for clazz in classes:\n",
    "        if clazz not in all_classes or all_classes[clazz] in duplicates:\n",
    "            all_classes[clazz] = i\n",
    "        elif len(classes) > len(df.classes.values[all_classes[clazz]]):\n",
    "            duplicates.add(all_classes[clazz])\n",
    "            all_classes[clazz] = i\n",
    "        else:\n",
    "            duplicates.add(i)\n",
    "duplicates = [df.repo.values[i] for i in duplicates]"
   ]
  },
  {
   "cell_type": "code",
   "execution_count": 8,
   "metadata": {},
   "outputs": [
    {
     "name": "stdout",
     "output_type": "stream",
     "text": [
      "Total repos: 6906, repos to be removed: 46\n",
      "Total repos: 6860\n"
     ]
    }
   ],
   "source": [
    "df = remove_repos(df, duplicates)"
   ]
  },
  {
   "cell_type": "code",
   "execution_count": 9,
   "metadata": {},
   "outputs": [],
   "source": [
    "df.set_index('repo')['classes'].to_json('../data/type-data-java.json', indent=2)"
   ]
  },
  {
   "cell_type": "markdown",
   "metadata": {},
   "source": [
    "### A smaller dataset"
   ]
  },
  {
   "cell_type": "code",
   "execution_count": 13,
   "metadata": {},
   "outputs": [],
   "source": [
    "small = df.sample(frac=0.10, replace=False)\n",
    "small.set_index('repo')['classes'].to_json('../data/type-data-java-small.json', indent=2)"
   ]
  },
  {
   "cell_type": "markdown",
   "metadata": {},
   "source": [
    "## Some statistics"
   ]
  },
  {
   "cell_type": "code",
   "execution_count": 14,
   "metadata": {},
   "outputs": [
    {
     "data": {
      "application/vnd.jupyter.widget-view+json": {
       "model_id": "b60b8dcfd5cd4059af5c3c0204b67457",
       "version_major": 2,
       "version_minor": 0
      },
      "text/plain": [
       "HBox(children=(FloatProgress(value=0.0, max=6860.0), HTML(value='')))"
      ]
     },
     "metadata": {},
     "output_type": "display_data"
    },
    {
     "name": "stdout",
     "output_type": "stream",
     "text": [
      "\n"
     ]
    }
   ],
   "source": [
    "param_type_freq = {}  # type -> number of times the type is used as a paramater\n",
    "return_type_freq = {} # type -> number of times the type is used as a return type\n",
    "for repo in tqdm(df.classes.values):\n",
    "    for clazz in repo.values():\n",
    "        for method in clazz.values():\n",
    "            if len(list(method.keys())) == 0:\n",
    "                continue\n",
    "            for param in method[\"params\"].values():\n",
    "                param_type_freq[param[\"type\"]] = param_type_freq.get(param[\"type\"], 0) + 1\n",
    "            if \"return\" in method:\n",
    "                return_type_freq[method[\"return\"][\"type\"]] = return_type_freq.get(method[\"return\"][\"type\"], 0) + 1 "
   ]
  },
  {
   "cell_type": "code",
   "execution_count": 15,
   "metadata": {},
   "outputs": [],
   "source": [
    "params_by_freq = list(param_type_freq.keys())\n",
    "params_by_freq.sort(key = lambda x: param_type_freq[x], reverse=True)\n",
    "\n",
    "return_by_freq = list(return_type_freq.keys())\n",
    "return_by_freq.sort(key = lambda x: return_type_freq[x], reverse=True)"
   ]
  },
  {
   "cell_type": "code",
   "execution_count": 16,
   "metadata": {},
   "outputs": [
    {
     "data": {
      "text/plain": [
       "['java.lang.String',\n",
       " 'int',\n",
       " 'boolean',\n",
       " 'long',\n",
       " 'java.lang.Object',\n",
       " 'double',\n",
       " '__T__',\n",
       " 'java.lang.Integer',\n",
       " 'float',\n",
       " 'byte[]',\n",
       " 'java.lang.Long',\n",
       " 'java.lang.String[]',\n",
       " 'java.lang.Boolean',\n",
       " 'java.lang.Class',\n",
       " 'com.amazonaws.protocol.ProtocolMarshaller',\n",
       " 'java.io.File',\n",
       " 'javax.xml.namespace.QName',\n",
       " 'java.util.List<java.lang.String>',\n",
       " 'javax.servlet.http.HttpServletRequest',\n",
       " 'android.content.Context',\n",
       " 'java.lang.Class<?>',\n",
       " 'java.util.Date',\n",
       " 'java.lang.Class<__T__>',\n",
       " 'int[]',\n",
       " 'java.util.Map<java.lang.String,java.lang.String>',\n",
       " 'java.util.Map<java.lang.Object,java.lang.Object>',\n",
       " 'java.util.Map<java.lang.String,java.lang.Object>',\n",
       " 'javax.servlet.http.HttpServletResponse',\n",
       " 'org.eclipse.emf.common.util.DiagnosticChain',\n",
       " 'double[]',\n",
       " 'java.io.InputStream',\n",
       " 'java.lang.Throwable',\n",
       " 'java.lang.CharSequence',\n",
       " 'com.google.protobuf.ByteString',\n",
       " 'android.view.View',\n",
       " 'java.lang.Object[]',\n",
       " 'byte',\n",
       " 'char',\n",
       " 'org.eclipse.emf.common.notify.NotificationChain',\n",
       " 'java.util.UUID',\n",
       " 'java.nio.ByteBuffer',\n",
       " 'java.util.Map',\n",
       " 'java.lang.Double',\n",
       " 'short',\n",
       " 'java.math.BigDecimal',\n",
       " 'com.google.protobuf.StringValue.Builder',\n",
       " 'java.util.Set<java.lang.String>',\n",
       " 'java.io.OutputStream',\n",
       " 'java.util.Locale',\n",
       " 'org.eclipse.swt.widgets.Composite']"
      ]
     },
     "execution_count": 16,
     "metadata": {},
     "output_type": "execute_result"
    }
   ],
   "source": [
    "params_by_freq[:50]"
   ]
  },
  {
   "cell_type": "code",
   "execution_count": 17,
   "metadata": {},
   "outputs": [
    {
     "data": {
      "text/plain": [
       "['void',\n",
       " 'java.lang.String',\n",
       " 'boolean',\n",
       " 'int',\n",
       " 'long',\n",
       " '__T__',\n",
       " 'double',\n",
       " 'java.lang.Object',\n",
       " 'java.lang.Integer',\n",
       " 'java.util.List<java.lang.String>',\n",
       " 'byte[]',\n",
       " 'java.lang.Boolean',\n",
       " 'java.lang.Long',\n",
       " 'org.eclipse.emf.ecore.EClass',\n",
       " 'float',\n",
       " 'java.lang.String[]',\n",
       " 'org.eclipse.emf.common.notify.Adapter',\n",
       " 'com.google.protobuf.ByteString',\n",
       " 'org.apache.axis.description.TypeDesc',\n",
       " 'java.util.Date',\n",
       " 'org.eclipse.emf.ecore.EAttribute',\n",
       " 'java.util.Map<java.lang.String,java.lang.String>',\n",
       " 'org.apache.axis.encoding.Serializer',\n",
       " 'org.apache.axis.encoding.Deserializer',\n",
       " 'org.eclipse.emf.ecore.EReference',\n",
       " 'java.io.File',\n",
       " 'java.util.Set<java.lang.String>',\n",
       " 'com.google.protobuf.StringValue',\n",
       " 'com.google.protobuf.StringValueOrBuilder',\n",
       " 'java.util.Map<java.lang.String,java.lang.Object>',\n",
       " 'int[]',\n",
       " 'org.eclipse.emf.common.notify.NotificationChain',\n",
       " 'com.google.common.collect.ImmutableList<com.google.schemaorg.SchemaOrgType>',\n",
       " 'java.lang.Double',\n",
       " 'javax.ws.rs.core.Response',\n",
       " 'java.util.List<__T__>',\n",
       " 'double[]',\n",
       " 'com.google.protobuf.StringValue.Builder',\n",
       " 'short',\n",
       " 'java.math.BigDecimal',\n",
       " 'java.util.List',\n",
       " 'byte',\n",
       " 'java.lang.Class<?>',\n",
       " 'com.google.protobuf.SingleFieldBuilderV3<com.google.protobuf.StringValue,com.google.protobuf.StringValue.Builder,com.google.protobuf.StringValueOrBuilder>',\n",
       " 'java.io.InputStream',\n",
       " 'java.lang.Float',\n",
       " 'java.math.BigInteger',\n",
       " 'java.util.concurrent.Future<com.zsmartsystems.zigbee.CommandResult>',\n",
       " 'java.lang.Object[]',\n",
       " 'com.docusign.esign.model.PropertyMetadata']"
      ]
     },
     "execution_count": 17,
     "metadata": {},
     "output_type": "execute_result"
    }
   ],
   "source": [
    "return_by_freq[:50]"
   ]
  },
  {
   "cell_type": "code",
   "execution_count": 18,
   "metadata": {},
   "outputs": [],
   "source": [
    "cfd = np.zeros(len(params_by_freq))  # cumulative frequency distribution\n",
    "cfd[0] = param_type_freq[params_by_freq[0]]\n",
    "for i in range(1, len(params_by_freq)):\n",
    "    cfd[i] = cfd[i-1] + param_type_freq[params_by_freq[i]]\n",
    "cfd /= cfd[-1]\n",
    "\n",
    "x = np.arange(len(params_by_freq))\n",
    "x = x/x[-1]"
   ]
  },
  {
   "cell_type": "code",
   "execution_count": 19,
   "metadata": {},
   "outputs": [
    {
     "data": {
      "image/png": "[encoded data removed]",
      "text/plain": [
       "<Figure size 432x288 with 1 Axes>"
      ]
     },
     "metadata": {
      "needs_background": "light"
     },
     "output_type": "display_data"
    }
   ],
   "source": [
    "plt.plot(x, cfd)\n",
    "plt.ylabel(\"Usage Percentage\")\n",
    "plt.xlabel(\"Fraction of most-used types\")\n",
    "plt.show()"
   ]
  },
  {
   "cell_type": "code",
   "execution_count": 20,
   "metadata": {},
   "outputs": [
    {
     "data": {
      "text/plain": [
       "0.5151215973605124"
      ]
     },
     "execution_count": 20,
     "metadata": {},
     "output_type": "execute_result"
    }
   ],
   "source": [
    "cfd[10]"
   ]
  }
 ],
 "metadata": {
  "kernelspec": {
   "display_name": "import",
   "language": "python",
   "name": "import"
  },
  "language_info": {
   "codemirror_mode": {
    "name": "ipython",
    "version": 3
   },
   "file_extension": ".py",
   "mimetype": "text/x-python",
   "name": "python",
   "nbconvert_exporter": "python",
   "pygments_lexer": "ipython3",
   "version": "3.8.3"
  }
 },
 "nbformat": 4,
 "nbformat_minor": 2
}
